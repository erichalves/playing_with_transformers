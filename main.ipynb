{
 "cells": [
  {
   "cell_type": "markdown",
   "id": "c932b2d1",
   "metadata": {},
   "source": [
    "# Introduction\n",
    "\n",
    "This notebook will present a couple of solutions for the issue of classifying a name as belonging to an individual or a company. This type of problem is known as NER (named entity recognition) and there are a considerable number of solutions and datasets that one can find for it online.\n",
    "\n",
    "The document starts with an exploratory analysis, which aims to find issues in the dataset, gather insights on how to solve the problem, and give a general understanding of the data.\n",
    "\n",
    "Following that, we will create a baseline model. This model will give us a benchmark for this problem and dataset. We will then try to beat this benchmark with two other models."
   ]
  },
  {
   "cell_type": "markdown",
   "id": "a0953ceb",
   "metadata": {},
   "source": [
    "## Initial EDA"
   ]
  },
  {
   "cell_type": "code",
   "execution_count": 5,
   "id": "ef566b2a",
   "metadata": {},
   "outputs": [
    {
     "name": "stderr",
     "output_type": "stream",
     "text": [
      "/usr/lib/python3/dist-packages/requests/__init__.py:89: RequestsDependencyWarning: urllib3 (1.26.14) or chardet (3.0.4) doesn't match a supported version!\n",
      "  warnings.warn(\"urllib3 ({}) or chardet ({}) doesn't match a supported \"\n",
      "2023-02-22 22:43:47.806912: I tensorflow/core/platform/cpu_feature_guard.cc:193] This TensorFlow binary is optimized with oneAPI Deep Neural Network Library (oneDNN) to use the following CPU instructions in performance-critical operations:  AVX2 FMA\n",
      "To enable them in other operations, rebuild TensorFlow with the appropriate compiler flags.\n"
     ]
    },
    {
     "name": "stdout",
     "output_type": "stream",
     "text": [
      "INFO:tensorflow:Mixed precision compatibility check (mixed_float16): OK\n",
      "Your GPU will likely run quickly with dtype policy mixed_float16 as it has compute capability of at least 7.0. Your GPU: NVIDIA GeForce RTX 3090, compute capability 8.6\n"
     ]
    },
    {
     "name": "stderr",
     "output_type": "stream",
     "text": [
      "2023-02-22 22:43:49.907378: I tensorflow/compiler/xla/stream_executor/cuda/cuda_gpu_executor.cc:981] successful NUMA node read from SysFS had negative value (-1), but there must be at least one NUMA node, so returning NUMA node zero\n",
      "2023-02-22 22:43:49.910272: I tensorflow/compiler/xla/stream_executor/cuda/cuda_gpu_executor.cc:981] successful NUMA node read from SysFS had negative value (-1), but there must be at least one NUMA node, so returning NUMA node zero\n",
      "2023-02-22 22:43:49.910600: I tensorflow/compiler/xla/stream_executor/cuda/cuda_gpu_executor.cc:981] successful NUMA node read from SysFS had negative value (-1), but there must be at least one NUMA node, so returning NUMA node zero\n",
      "2023-02-22 22:43:49.911022: I tensorflow/compiler/xla/stream_executor/cuda/cuda_gpu_executor.cc:981] successful NUMA node read from SysFS had negative value (-1), but there must be at least one NUMA node, so returning NUMA node zero\n"
     ]
    }
   ],
   "source": [
    "import numpy as np\n",
    "import pandas as pd\n",
    "\n",
    "import re\n",
    "\n",
    "from sklearn.model_selection import train_test_split\n",
    "\n",
    "from transformers import TFAutoModelForSequenceClassification, AutoTokenizer\n",
    "from tensorflow.keras.optimizers import Adam\n",
    "from keras.models import Model\n",
    "\n",
    "from sklearn.metrics import accuracy_score, roc_auc_score, confusion_matrix\n",
    "\n",
    "from sklearn.linear_model import LogisticRegression\n",
    "\n",
    "import tensorflow as tf\n",
    "from sklearn.feature_extraction.text import TfidfVectorizer, CountVectorizer\n",
    "\n",
    "from datasets import Dataset\n",
    "\n",
    "import matplotlib.pyplot as plt\n",
    "\n",
    "from scipy.sparse import hstack\n",
    "\n",
    "from tensorflow.keras import mixed_precision\n",
    "# NVIDIA GPUs can run operations in float16 faster than in float32\n",
    "# we might want to comment the following line for production\n",
    "mixed_precision.set_global_policy('mixed_float16') "
   ]
  },
  {
   "cell_type": "code",
   "execution_count": 6,
   "id": "16485c96",
   "metadata": {},
   "outputs": [],
   "source": [
    "def open_file(file_name):\n",
    "    with open(file_name, \"r\") as file:\n",
    "        dataset = pd.DataFrame(file.read().split(\"\\n\"), columns=[\"text\"])\n",
    "        dataset = dataset[dataset.text!=\"\"] # removing a empty line in the last line \n",
    "    return dataset\n",
    "\n",
    "df_companies = open_file(\"companies.txt\").assign(label=1) # we label the data here\n",
    "df_individuals = open_file(\"individuals.txt\").assign(label=0)"
   ]
  },
  {
   "cell_type": "markdown",
   "id": "c91a1c4d",
   "metadata": {},
   "source": [
    "### Eyeballing the data\n",
    "\n",
    "Below, we take a look at the data, and with some common sense, some patterns are seen, like:\n",
    "1. Words like Club or Auto probably indicate a business\n",
    "2. Places are probably more common in businesses' names as well (e.g. Hawaii, Albuquerque)\n",
    "3. Many times, you can find the meaning of the words that compose a company name in a dictionary (e.g. Electrolysis, Primos)\n",
    "4. First names are normally familiar (David, Angel, Erika, etc)\n",
    "\n",
    "We will later deep-diving into point 1 by checking the common words in the dataset\n",
    "\n",
    "Also important, the dataset is relatively well balanced with ~63% being companies, and classifying companies or individuals correctly seems equaly important, so we can use metrics like accuracy to measure the quality of our models. If the dataset was unbalanced, we would favor metrics that consider the trade-off between precision and recall, like the area under the curve in a precision-recall curve. I will also be checking the area under the curve for ROC curves, simply because I am used to ranking problems where this is a common metric and thus it will help me to get a \"feeling\" of the problem here."
   ]
  },
  {
   "cell_type": "code",
   "execution_count": 7,
   "id": "f983409e",
   "metadata": {},
   "outputs": [
    {
     "name": "stdout",
     "output_type": "stream",
     "text": [
      "(161055, 2)\n"
     ]
    },
    {
     "data": {
      "text/html": [
       "<div>\n",
       "<style scoped>\n",
       "    .dataframe tbody tr th:only-of-type {\n",
       "        vertical-align: middle;\n",
       "    }\n",
       "\n",
       "    .dataframe tbody tr th {\n",
       "        vertical-align: top;\n",
       "    }\n",
       "\n",
       "    .dataframe thead th {\n",
       "        text-align: right;\n",
       "    }\n",
       "</style>\n",
       "<table border=\"1\" class=\"dataframe\">\n",
       "  <thead>\n",
       "    <tr style=\"text-align: right;\">\n",
       "      <th></th>\n",
       "      <th>text</th>\n",
       "      <th>label</th>\n",
       "    </tr>\n",
       "  </thead>\n",
       "  <tbody>\n",
       "    <tr>\n",
       "      <th>0</th>\n",
       "      <td>Albuquerque Dsm Club</td>\n",
       "      <td>1</td>\n",
       "    </tr>\n",
       "    <tr>\n",
       "      <th>1</th>\n",
       "      <td>Teriyaki Hawaii</td>\n",
       "      <td>1</td>\n",
       "    </tr>\n",
       "    <tr>\n",
       "      <th>2</th>\n",
       "      <td>Allure Electrolysis Waxing</td>\n",
       "      <td>1</td>\n",
       "    </tr>\n",
       "    <tr>\n",
       "      <th>3</th>\n",
       "      <td>Los Primos Auto Sales</td>\n",
       "      <td>1</td>\n",
       "    </tr>\n",
       "    <tr>\n",
       "      <th>4</th>\n",
       "      <td>John Wesselius</td>\n",
       "      <td>1</td>\n",
       "    </tr>\n",
       "  </tbody>\n",
       "</table>\n",
       "</div>"
      ],
      "text/plain": [
       "                         text  label\n",
       "0        Albuquerque Dsm Club      1\n",
       "1             Teriyaki Hawaii      1\n",
       "2  Allure Electrolysis Waxing      1\n",
       "3       Los Primos Auto Sales      1\n",
       "4              John Wesselius      1"
      ]
     },
     "execution_count": 7,
     "metadata": {},
     "output_type": "execute_result"
    }
   ],
   "source": [
    "print(df_companies.shape)\n",
    "df_companies.head()"
   ]
  },
  {
   "cell_type": "code",
   "execution_count": 8,
   "id": "b7d9a750",
   "metadata": {},
   "outputs": [
    {
     "name": "stdout",
     "output_type": "stream",
     "text": [
      "(94246, 2)\n"
     ]
    },
    {
     "data": {
      "text/html": [
       "<div>\n",
       "<style scoped>\n",
       "    .dataframe tbody tr th:only-of-type {\n",
       "        vertical-align: middle;\n",
       "    }\n",
       "\n",
       "    .dataframe tbody tr th {\n",
       "        vertical-align: top;\n",
       "    }\n",
       "\n",
       "    .dataframe thead th {\n",
       "        text-align: right;\n",
       "    }\n",
       "</style>\n",
       "<table border=\"1\" class=\"dataframe\">\n",
       "  <thead>\n",
       "    <tr style=\"text-align: right;\">\n",
       "      <th></th>\n",
       "      <th>text</th>\n",
       "      <th>label</th>\n",
       "    </tr>\n",
       "  </thead>\n",
       "  <tbody>\n",
       "    <tr>\n",
       "      <th>0</th>\n",
       "      <td>David Kagan</td>\n",
       "      <td>0</td>\n",
       "    </tr>\n",
       "    <tr>\n",
       "      <th>1</th>\n",
       "      <td>Angel Donchev</td>\n",
       "      <td>0</td>\n",
       "    </tr>\n",
       "    <tr>\n",
       "      <th>2</th>\n",
       "      <td>Erika Parisi</td>\n",
       "      <td>0</td>\n",
       "    </tr>\n",
       "    <tr>\n",
       "      <th>3</th>\n",
       "      <td>Rebecca Healey</td>\n",
       "      <td>0</td>\n",
       "    </tr>\n",
       "    <tr>\n",
       "      <th>4</th>\n",
       "      <td>Clifford Irwin</td>\n",
       "      <td>0</td>\n",
       "    </tr>\n",
       "  </tbody>\n",
       "</table>\n",
       "</div>"
      ],
      "text/plain": [
       "             text  label\n",
       "0     David Kagan      0\n",
       "1   Angel Donchev      0\n",
       "2    Erika Parisi      0\n",
       "3  Rebecca Healey      0\n",
       "4  Clifford Irwin      0"
      ]
     },
     "execution_count": 8,
     "metadata": {},
     "output_type": "execute_result"
    }
   ],
   "source": [
    "print(df_individuals.shape)\n",
    "df_individuals.head()"
   ]
  },
  {
   "cell_type": "code",
   "execution_count": 9,
   "id": "4cc12c32",
   "metadata": {},
   "outputs": [
    {
     "data": {
      "text/plain": [
       "(text     0\n",
       " label    0\n",
       " dtype: int64,\n",
       " text     0\n",
       " label    0\n",
       " dtype: int64)"
      ]
     },
     "execution_count": 9,
     "metadata": {},
     "output_type": "execute_result"
    }
   ],
   "source": [
    "df_companies.isnull().sum(), df_individuals.isnull().sum()"
   ]
  },
  {
   "cell_type": "markdown",
   "id": "40631bfc",
   "metadata": {},
   "source": [
    "## EDA Deep-dive: Checking frequencies"
   ]
  },
  {
   "cell_type": "markdown",
   "id": "c400f616",
   "metadata": {},
   "source": [
    "### Frequency of words\n",
    "\n",
    "From the individuals, we can see that this dataset probably comes from English-speaking contries. Common first names again seem to be a great predictor (as we have seen when eveyballing the data). So a word by word enconding seems promissing for our models.\n",
    "\n",
    "From the companies, we can see abbreviations stand out. The '&' is also interesting, let's see next what are the most common symbols in the datasets."
   ]
  },
  {
   "cell_type": "code",
   "execution_count": 10,
   "id": "0e82923d",
   "metadata": {},
   "outputs": [
    {
     "data": {
      "image/png": "[encoded data removed]",
      "text/plain": [
       "<Figure size 1200x400 with 1 Axes>"
      ]
     },
     "metadata": {},
     "output_type": "display_data"
    }
   ],
   "source": [
    "fig = plt.figure(figsize=(12, 4), dpi=100)\n",
    "ax = fig.add_axes([0,0,1,1])\n",
    "name_freq = df_individuals.text.str.split(\" \").explode().value_counts()\n",
    "ax.bar(name_freq[:20].index, name_freq[:20])\n",
    "plt.show()"
   ]
  },
  {
   "cell_type": "code",
   "execution_count": 11,
   "id": "36371e29",
   "metadata": {},
   "outputs": [
    {
     "data": {
      "image/png": "[encoded data removed]",
      "text/plain": [
       "<Figure size 1200x400 with 1 Axes>"
      ]
     },
     "metadata": {},
     "output_type": "display_data"
    }
   ],
   "source": [
    "fig = plt.figure(figsize=(12, 4), dpi=100)\n",
    "ax = fig.add_axes([0,0,1,1])\n",
    "name_freq = df_companies.text.str.split(\" \").explode().value_counts()\n",
    "ax.bar(name_freq[:20].index, name_freq[:20])\n",
    "plt.show()"
   ]
  },
  {
   "cell_type": "markdown",
   "id": "f74c6887",
   "metadata": {},
   "source": [
    "### Frequency of caracters\n",
    "\n",
    "Symbols are more common and more diverse in companies' names (even considering we have a bigger dataset on companies). Numerals only exist in companies' names. So a character enconding also seems like a must-have.\n",
    "\n",
    "Checking symbols was also a good check on whether we have invalid characters"
   ]
  },
  {
   "cell_type": "code",
   "execution_count": 12,
   "id": "af232050",
   "metadata": {},
   "outputs": [
    {
     "data": {
      "image/png": "[encoded data removed]",
      "text/plain": [
       "<Figure size 1200x400 with 1 Axes>"
      ]
     },
     "metadata": {},
     "output_type": "display_data"
    }
   ],
   "source": [
    "fig = plt.figure(figsize=(12, 4), dpi=100)\n",
    "ax = fig.add_axes([0,0,1,1])\n",
    "caracters = df_individuals.text.apply(lambda x: list(x)).explode()\n",
    "caracters = caracters[~caracters.str.contains(r'[a-z ]+', flags=re.IGNORECASE, regex=True)].value_counts()\n",
    "ax.bar(caracters.index, caracters)\n",
    "plt.show()"
   ]
  },
  {
   "cell_type": "code",
   "execution_count": 13,
   "id": "8413bb27",
   "metadata": {},
   "outputs": [
    {
     "data": {
      "image/png": "[encoded data removed]",
      "text/plain": [
       "<Figure size 1200x400 with 1 Axes>"
      ]
     },
     "metadata": {},
     "output_type": "display_data"
    }
   ],
   "source": [
    "fig = plt.figure(figsize=(12, 4), dpi=100)\n",
    "ax = fig.add_axes([0,0,1,1])\n",
    "caracters = df_companies.text.apply(lambda x: list(x)).explode()\n",
    "caracters = caracters[~caracters.str.contains(r'[a-z ]+', flags=re.IGNORECASE, regex=True)].value_counts()\n",
    "ax.bar(caracters.index, caracters)\n",
    "plt.show()"
   ]
  },
  {
   "cell_type": "markdown",
   "id": "7cca0171",
   "metadata": {},
   "source": [
    "### Number of words\n",
    "\n",
    "Unless you're the Pope, the Queen, or Pelé, you probably have at least two names. So the number of words itself can be a predictor."
   ]
  },
  {
   "cell_type": "code",
   "execution_count": 14,
   "id": "b60d5c48",
   "metadata": {},
   "outputs": [
    {
     "data": {
      "image/png": "[encoded data removed]",
      "text/plain": [
       "<Figure size 1200x400 with 1 Axes>"
      ]
     },
     "metadata": {},
     "output_type": "display_data"
    }
   ],
   "source": [
    "fig = plt.figure(figsize=(12, 4), dpi=100)\n",
    "ax = fig.add_axes([0,0,1,1])\n",
    "size_freq = df_individuals.text.str.split(\" \").apply(lambda x: len(x)).value_counts()\n",
    "ax.bar(size_freq[:20].index, size_freq[:20])\n",
    "plt.show()"
   ]
  },
  {
   "cell_type": "code",
   "execution_count": 15,
   "id": "59fccdfc",
   "metadata": {},
   "outputs": [
    {
     "data": {
      "image/png": "[encoded data removed]",
      "text/plain": [
       "<Figure size 1200x400 with 1 Axes>"
      ]
     },
     "metadata": {},
     "output_type": "display_data"
    }
   ],
   "source": [
    "fig = plt.figure(figsize=(12, 4), dpi=100)\n",
    "ax = fig.add_axes([0,0,1,1])\n",
    "size_freq = df_companies.text.str.split(\" \").apply(lambda x: len(x)).value_counts()\n",
    "ax.bar(size_freq[:20].index, size_freq[:20])\n",
    "plt.show()"
   ]
  },
  {
   "cell_type": "code",
   "execution_count": 16,
   "id": "110f8f67",
   "metadata": {},
   "outputs": [
    {
     "data": {
      "text/html": [
       "<div>\n",
       "<style scoped>\n",
       "    .dataframe tbody tr th:only-of-type {\n",
       "        vertical-align: middle;\n",
       "    }\n",
       "\n",
       "    .dataframe tbody tr th {\n",
       "        vertical-align: top;\n",
       "    }\n",
       "\n",
       "    .dataframe thead th {\n",
       "        text-align: right;\n",
       "    }\n",
       "</style>\n",
       "<table border=\"1\" class=\"dataframe\">\n",
       "  <thead>\n",
       "    <tr style=\"text-align: right;\">\n",
       "      <th></th>\n",
       "      <th>text</th>\n",
       "      <th>label</th>\n",
       "    </tr>\n",
       "  </thead>\n",
       "  <tbody>\n",
       "  </tbody>\n",
       "</table>\n",
       "</div>"
      ],
      "text/plain": [
       "Empty DataFrame\n",
       "Columns: [text, label]\n",
       "Index: []"
      ]
     },
     "execution_count": 16,
     "metadata": {},
     "output_type": "execute_result"
    }
   ],
   "source": [
    "# check if there are double spaces as it could indicate an issue with the dataset\n",
    "df_individuals[df_individuals.text.str.contains(r'  ', flags=re.IGNORECASE, regex=True)]"
   ]
  },
  {
   "cell_type": "markdown",
   "id": "1dcb430f",
   "metadata": {},
   "source": [
    "## Baseline Model"
   ]
  },
  {
   "cell_type": "markdown",
   "id": "b394ab6d",
   "metadata": {},
   "source": [
    "Our baseline model will be the simplest binary classifier I know of, the Logistic Regression, basically a linear model with the logistic function at the end of it to convert the output to something between 0 and 1, so we use as a probability. When the probability is bigger than 0.5, we classify the sample as being a company (since we labeled companies as 1s).\n",
    "\n",
    "Scikit-learn implementation also has by default a l2 (or Ridge) regularization, which can help it to generalize better the results in the train dataset (although overfitting wouldn't be huge concern of mine at this moment)."
   ]
  },
  {
   "cell_type": "code",
   "execution_count": 17,
   "id": "c5ebe5af",
   "metadata": {},
   "outputs": [],
   "source": [
    "# we split the dataset into 3 parts.\n",
    "# One for train, with 64% of the data\n",
    "# Another for validation with 16% of the data\n",
    "#   which(can be used to choose the best model and for hyperparameter optimization)\n",
    "# And another 20% for a final test, done only with the best model\n",
    "#  the result with the test dataset will give us the expected performance on production\n",
    "\n",
    "# also important, we do the split separately in the companies and the individuals datasets,\n",
    "# as I want to keep the proportion of each category the same everywhere\n",
    "# I checked sklearn split methods and didn't find a way to it in one go\n",
    "\n",
    "df_companies_train, df_companies_test = train_test_split(df_companies, test_size=0.2, random_state=42)\n",
    "df_companies_train, df_companies_eval = train_test_split(df_companies_train, test_size=0.2, random_state=42)\n",
    "\n",
    "df_individuals_train, df_individuals_test = train_test_split(df_individuals, test_size=0.2, random_state=42)\n",
    "df_individuals_train, df_individuals_eval = train_test_split(df_individuals_train, test_size=0.2, random_state=42)"
   ]
  },
  {
   "cell_type": "code",
   "execution_count": 18,
   "id": "52241595",
   "metadata": {},
   "outputs": [],
   "source": [
    "df_train = pd.concat([df_companies_train, df_individuals_train])\n",
    "df_eval = pd.concat([df_companies_eval, df_individuals_eval])\n",
    "df_test = pd.concat([df_companies_test, df_individuals_test])"
   ]
  },
  {
   "cell_type": "code",
   "execution_count": 43,
   "id": "43b46b50",
   "metadata": {},
   "outputs": [],
   "source": [
    "# we will have char and word counts as features, as we have seen in the EDA that both seem relevant\n",
    "# limiting the vocab size -- about 5k words appear at least 10 times in this dataset\n",
    "word_vectorizer = CountVectorizer(min_df=10)\n",
    "char_vectorizer = CountVectorizer(analyzer=\"char\", ngram_range=(1, 2))\n",
    "\n",
    "# concatenating features\n",
    "vectorized_train_data = hstack(\n",
    "    (word_vectorizer.fit_transform(df_train.text.tolist()), char_vectorizer.fit_transform(df_train.text.tolist()))\n",
    ")"
   ]
  },
  {
   "cell_type": "code",
   "execution_count": 20,
   "id": "5a50fca9",
   "metadata": {},
   "outputs": [
    {
     "data": {
      "text/html": [
       "<style>#sk-container-id-1 {color: black;background-color: white;}#sk-container-id-1 pre{padding: 0;}#sk-container-id-1 div.sk-toggleable {background-color: white;}#sk-container-id-1 label.sk-toggleable__label {cursor: pointer;display: block;width: 100%;margin-bottom: 0;padding: 0.3em;box-sizing: border-box;text-align: center;}#sk-container-id-1 label.sk-toggleable__label-arrow:before {content: \"▸\";float: left;margin-right: 0.25em;color: #696969;}#sk-container-id-1 label.sk-toggleable__label-arrow:hover:before {color: black;}#sk-container-id-1 div.sk-estimator:hover label.sk-toggleable__label-arrow:before {color: black;}#sk-container-id-1 div.sk-toggleable__content {max-height: 0;max-width: 0;overflow: hidden;text-align: left;background-color: #f0f8ff;}#sk-container-id-1 div.sk-toggleable__content pre {margin: 0.2em;color: black;border-radius: 0.25em;background-color: #f0f8ff;}#sk-container-id-1 input.sk-toggleable__control:checked~div.sk-toggleable__content {max-height: 200px;max-width: 100%;overflow: auto;}#sk-container-id-1 input.sk-toggleable__control:checked~label.sk-toggleable__label-arrow:before {content: \"▾\";}#sk-container-id-1 div.sk-estimator input.sk-toggleable__control:checked~label.sk-toggleable__label {background-color: #d4ebff;}#sk-container-id-1 div.sk-label input.sk-toggleable__control:checked~label.sk-toggleable__label {background-color: #d4ebff;}#sk-container-id-1 input.sk-hidden--visually {border: 0;clip: rect(1px 1px 1px 1px);clip: rect(1px, 1px, 1px, 1px);height: 1px;margin: -1px;overflow: hidden;padding: 0;position: absolute;width: 1px;}#sk-container-id-1 div.sk-estimator {font-family: monospace;background-color: #f0f8ff;border: 1px dotted black;border-radius: 0.25em;box-sizing: border-box;margin-bottom: 0.5em;}#sk-container-id-1 div.sk-estimator:hover {background-color: #d4ebff;}#sk-container-id-1 div.sk-parallel-item::after {content: \"\";width: 100%;border-bottom: 1px solid gray;flex-grow: 1;}#sk-container-id-1 div.sk-label:hover label.sk-toggleable__label {background-color: #d4ebff;}#sk-container-id-1 div.sk-serial::before {content: \"\";position: absolute;border-left: 1px solid gray;box-sizing: border-box;top: 0;bottom: 0;left: 50%;z-index: 0;}#sk-container-id-1 div.sk-serial {display: flex;flex-direction: column;align-items: center;background-color: white;padding-right: 0.2em;padding-left: 0.2em;position: relative;}#sk-container-id-1 div.sk-item {position: relative;z-index: 1;}#sk-container-id-1 div.sk-parallel {display: flex;align-items: stretch;justify-content: center;background-color: white;position: relative;}#sk-container-id-1 div.sk-item::before, #sk-container-id-1 div.sk-parallel-item::before {content: \"\";position: absolute;border-left: 1px solid gray;box-sizing: border-box;top: 0;bottom: 0;left: 50%;z-index: -1;}#sk-container-id-1 div.sk-parallel-item {display: flex;flex-direction: column;z-index: 1;position: relative;background-color: white;}#sk-container-id-1 div.sk-parallel-item:first-child::after {align-self: flex-end;width: 50%;}#sk-container-id-1 div.sk-parallel-item:last-child::after {align-self: flex-start;width: 50%;}#sk-container-id-1 div.sk-parallel-item:only-child::after {width: 0;}#sk-container-id-1 div.sk-dashed-wrapped {border: 1px dashed gray;margin: 0 0.4em 0.5em 0.4em;box-sizing: border-box;padding-bottom: 0.4em;background-color: white;}#sk-container-id-1 div.sk-label label {font-family: monospace;font-weight: bold;display: inline-block;line-height: 1.2em;}#sk-container-id-1 div.sk-label-container {text-align: center;}#sk-container-id-1 div.sk-container {/* jupyter's `normalize.less` sets `[hidden] { display: none; }` but bootstrap.min.css set `[hidden] { display: none !important; }` so we also need the `!important` here to be able to override the default hidden behavior on the sphinx rendered scikit-learn.org. See: https://github.com/scikit-learn/scikit-learn/issues/21755 */display: inline-block !important;position: relative;}#sk-container-id-1 div.sk-text-repr-fallback {display: none;}</style><div id=\"sk-container-id-1\" class=\"sk-top-container\"><div class=\"sk-text-repr-fallback\"><pre>LogisticRegression(max_iter=1000, random_state=42)</pre><b>In a Jupyter environment, please rerun this cell to show the HTML representation or trust the notebook. <br />On GitHub, the HTML representation is unable to render, please try loading this page with nbviewer.org.</b></div><div class=\"sk-container\" hidden><div class=\"sk-item\"><div class=\"sk-estimator sk-toggleable\"><input class=\"sk-toggleable__control sk-hidden--visually\" id=\"sk-estimator-id-1\" type=\"checkbox\" checked><label for=\"sk-estimator-id-1\" class=\"sk-toggleable__label sk-toggleable__label-arrow\">LogisticRegression</label><div class=\"sk-toggleable__content\"><pre>LogisticRegression(max_iter=1000, random_state=42)</pre></div></div></div></div></div>"
      ],
      "text/plain": [
       "LogisticRegression(max_iter=1000, random_state=42)"
      ]
     },
     "execution_count": 20,
     "metadata": {},
     "output_type": "execute_result"
    }
   ],
   "source": [
    "# declarind and fitting the model\n",
    "clf = LogisticRegression(random_state=42, max_iter=1000)\n",
    "clf.fit(vectorized_train_data, df_train.label.tolist())"
   ]
  },
  {
   "cell_type": "code",
   "execution_count": 64,
   "id": "92f49f27",
   "metadata": {},
   "outputs": [
    {
     "data": {
      "text/html": [
       "<div>\n",
       "<style scoped>\n",
       "    .dataframe tbody tr th:only-of-type {\n",
       "        vertical-align: middle;\n",
       "    }\n",
       "\n",
       "    .dataframe tbody tr th {\n",
       "        vertical-align: top;\n",
       "    }\n",
       "\n",
       "    .dataframe thead th {\n",
       "        text-align: right;\n",
       "    }\n",
       "</style>\n",
       "<table border=\"1\" class=\"dataframe\">\n",
       "  <thead>\n",
       "    <tr style=\"text-align: right;\">\n",
       "      <th></th>\n",
       "      <th>word</th>\n",
       "      <th>coef</th>\n",
       "      <th>abs_coef</th>\n",
       "    </tr>\n",
       "  </thead>\n",
       "  <tbody>\n",
       "    <tr>\n",
       "      <th>4168</th>\n",
       "      <td>salon</td>\n",
       "      <td>4.262897</td>\n",
       "      <td>4.262897</td>\n",
       "    </tr>\n",
       "    <tr>\n",
       "      <th>5424</th>\n",
       "      <td>/</td>\n",
       "      <td>3.958860</td>\n",
       "      <td>3.958860</td>\n",
       "    </tr>\n",
       "    <tr>\n",
       "      <th>956</th>\n",
       "      <td>co</td>\n",
       "      <td>3.898370</td>\n",
       "      <td>3.898370</td>\n",
       "    </tr>\n",
       "    <tr>\n",
       "      <th>1241</th>\n",
       "      <td>dds</td>\n",
       "      <td>3.570295</td>\n",
       "      <td>3.570295</td>\n",
       "    </tr>\n",
       "    <tr>\n",
       "      <th>2148</th>\n",
       "      <td>hector</td>\n",
       "      <td>-3.551720</td>\n",
       "      <td>3.551720</td>\n",
       "    </tr>\n",
       "    <tr>\n",
       "      <th>5507</th>\n",
       "      <td>2</td>\n",
       "      <td>3.547996</td>\n",
       "      <td>3.547996</td>\n",
       "    </tr>\n",
       "    <tr>\n",
       "      <th>4948</th>\n",
       "      <td>victoria</td>\n",
       "      <td>-3.362653</td>\n",
       "      <td>3.362653</td>\n",
       "    </tr>\n",
       "    <tr>\n",
       "      <th>4947</th>\n",
       "      <td>victor</td>\n",
       "      <td>-3.333975</td>\n",
       "      <td>3.333975</td>\n",
       "    </tr>\n",
       "    <tr>\n",
       "      <th>4712</th>\n",
       "      <td>the</td>\n",
       "      <td>3.313548</td>\n",
       "      <td>3.313548</td>\n",
       "    </tr>\n",
       "    <tr>\n",
       "      <th>2306</th>\n",
       "      <td>ian</td>\n",
       "      <td>-3.281419</td>\n",
       "      <td>3.281419</td>\n",
       "    </tr>\n",
       "  </tbody>\n",
       "</table>\n",
       "</div>"
      ],
      "text/plain": [
       "          word      coef  abs_coef\n",
       "4168     salon  4.262897  4.262897\n",
       "5424         /  3.958860  3.958860\n",
       "956         co  3.898370  3.898370\n",
       "1241       dds  3.570295  3.570295\n",
       "2148    hector -3.551720  3.551720\n",
       "5507         2  3.547996  3.547996\n",
       "4948  victoria -3.362653  3.362653\n",
       "4947    victor -3.333975  3.333975\n",
       "4712       the  3.313548  3.313548\n",
       "2306       ian -3.281419  3.281419"
      ]
     },
     "execution_count": 64,
     "metadata": {},
     "output_type": "execute_result"
    }
   ],
   "source": [
    "coeficients = pd.DataFrame({\n",
    "    \"word\": np.concatenate([word_vectorizer.get_feature_names_out(), char_vectorizer.get_feature_names_out()]),\n",
    "    \"coef\": clf.coef_[0]\n",
    "})\n",
    "coeficients[\"abs_coef\"] = np.abs(coeficients[\"coef\"])\n",
    "coeficients.sort_values(by=[\"abs_coef\"], ascending=False).head(10)"
   ]
  },
  {
   "cell_type": "code",
   "execution_count": 65,
   "id": "3552df20",
   "metadata": {},
   "outputs": [
    {
     "data": {
      "text/html": [
       "<div>\n",
       "<style scoped>\n",
       "    .dataframe tbody tr th:only-of-type {\n",
       "        vertical-align: middle;\n",
       "    }\n",
       "\n",
       "    .dataframe tbody tr th {\n",
       "        vertical-align: top;\n",
       "    }\n",
       "\n",
       "    .dataframe thead th {\n",
       "        text-align: right;\n",
       "    }\n",
       "</style>\n",
       "<table border=\"1\" class=\"dataframe\">\n",
       "  <thead>\n",
       "    <tr style=\"text-align: right;\">\n",
       "      <th></th>\n",
       "      <th>word</th>\n",
       "      <th>coef</th>\n",
       "      <th>abs_coef</th>\n",
       "    </tr>\n",
       "  </thead>\n",
       "  <tbody>\n",
       "    <tr>\n",
       "      <th>5539</th>\n",
       "      <td>2t</td>\n",
       "      <td>0.000002</td>\n",
       "      <td>0.000002</td>\n",
       "    </tr>\n",
       "    <tr>\n",
       "      <th>6285</th>\n",
       "      <td>n8</td>\n",
       "      <td>0.000002</td>\n",
       "      <td>0.000002</td>\n",
       "    </tr>\n",
       "    <tr>\n",
       "      <th>5392</th>\n",
       "      <td>.-</td>\n",
       "      <td>0.000002</td>\n",
       "      <td>0.000002</td>\n",
       "    </tr>\n",
       "    <tr>\n",
       "      <th>5283</th>\n",
       "      <td>&amp;z</td>\n",
       "      <td>0.000002</td>\n",
       "      <td>0.000002</td>\n",
       "    </tr>\n",
       "    <tr>\n",
       "      <th>5627</th>\n",
       "      <td>5i</td>\n",
       "      <td>0.000002</td>\n",
       "      <td>0.000002</td>\n",
       "    </tr>\n",
       "    <tr>\n",
       "      <th>6480</th>\n",
       "      <td>s0</td>\n",
       "      <td>0.000002</td>\n",
       "      <td>0.000002</td>\n",
       "    </tr>\n",
       "    <tr>\n",
       "      <th>5480</th>\n",
       "      <td>1)</td>\n",
       "      <td>0.000002</td>\n",
       "      <td>0.000002</td>\n",
       "    </tr>\n",
       "    <tr>\n",
       "      <th>5319</th>\n",
       "      <td>(5</td>\n",
       "      <td>0.000002</td>\n",
       "      <td>0.000002</td>\n",
       "    </tr>\n",
       "    <tr>\n",
       "      <th>6329</th>\n",
       "      <td>o:</td>\n",
       "      <td>0.000002</td>\n",
       "      <td>0.000002</td>\n",
       "    </tr>\n",
       "    <tr>\n",
       "      <th>5734</th>\n",
       "      <td>@</td>\n",
       "      <td>0.000002</td>\n",
       "      <td>0.000002</td>\n",
       "    </tr>\n",
       "  </tbody>\n",
       "</table>\n",
       "</div>"
      ],
      "text/plain": [
       "     word      coef  abs_coef\n",
       "5539   2t  0.000002  0.000002\n",
       "6285   n8  0.000002  0.000002\n",
       "5392   .-  0.000002  0.000002\n",
       "5283   &z  0.000002  0.000002\n",
       "5627   5i  0.000002  0.000002\n",
       "6480   s0  0.000002  0.000002\n",
       "5480   1)  0.000002  0.000002\n",
       "5319   (5  0.000002  0.000002\n",
       "6329   o:  0.000002  0.000002\n",
       "5734   @   0.000002  0.000002"
      ]
     },
     "execution_count": 65,
     "metadata": {},
     "output_type": "execute_result"
    }
   ],
   "source": [
    "coeficients.sort_values(by=[\"abs_coef\"], ascending=True).head(10)"
   ]
  },
  {
   "cell_type": "code",
   "execution_count": 15,
   "id": "1e927732",
   "metadata": {},
   "outputs": [],
   "source": [
    "# applying the same transformation to the validation dataset and predicting\n",
    "vectorized_val_data = hstack(\n",
    "    (word_vectorizer.transform(df_eval.text.tolist()), char_vectorizer.transform(df_eval.text.tolist()))\n",
    ")\n",
    "val_pred = clf.predict(vectorized_val_data)\n",
    "val_pred_proba = clf.predict_proba(vectorized_val_data)[:,1]"
   ]
  },
  {
   "cell_type": "code",
   "execution_count": 16,
   "id": "c62d3524",
   "metadata": {},
   "outputs": [
    {
     "data": {
      "text/plain": [
       "(0.9127028813434845, 0.9591124786706788)"
      ]
     },
     "execution_count": 16,
     "metadata": {},
     "output_type": "execute_result"
    }
   ],
   "source": [
    "# getting metrics\n",
    "accuracy_score(df_eval.label.tolist(), val_pred), roc_auc_score(df_eval.label.tolist(), val_pred_proba)"
   ]
  },
  {
   "cell_type": "code",
   "execution_count": 34,
   "id": "a67df558",
   "metadata": {},
   "outputs": [
    {
     "data": {
      "text/plain": [
       "array([[0.34536953, 0.02379495],\n",
       "       [0.06350217, 0.56733335]])"
      ]
     },
     "execution_count": 34,
     "metadata": {},
     "output_type": "execute_result"
    }
   ],
   "source": [
    "confusion_matrix(df_eval.label.tolist(), val_pred) / df_eval.shape[0]"
   ]
  },
  {
   "cell_type": "markdown",
   "id": "e8fe25a7",
   "metadata": {},
   "source": [
    "## Comments on the quality of the baseline model\n",
    "\n",
    "In my experience with ranking problems, AUC ROC > 80% are great already, when we got to this level, the business benefit of further improvements were marginal and the team would move to other priorities.\n",
    "\n",
    "But thinking on the cases this model might be applied, 91% accuracy might still not be great. If, for instance, having an company name in a field for individuals is a fraud, firing an alarm for a human to review once every 10 fields seems problematic. So it seems worth to pursue improvements here.\n",
    "\n",
    "Also, it seems it's harder to classify company names, as our model was better with individuals even thought we had more samples in the company category.\n",
    "\n",
    "Let's check the biggest mistakes and see if we can get some extra insight."
   ]
  },
  {
   "cell_type": "code",
   "execution_count": 33,
   "id": "fcd764c4",
   "metadata": {},
   "outputs": [],
   "source": [
    "df_eval[\"pred_baseline\"] = clf.predict_proba(vectorized_val_data)[:,1]\n",
    "df_eval[\"abs_error\"] = df_eval.apply(lambda x: abs(int(x[\"label\"]) - x[\"pred_baseline\"]), axis=1)"
   ]
  },
  {
   "cell_type": "code",
   "execution_count": 34,
   "id": "a643eb88",
   "metadata": {},
   "outputs": [
    {
     "data": {
      "text/html": [
       "<div>\n",
       "<style scoped>\n",
       "    .dataframe tbody tr th:only-of-type {\n",
       "        vertical-align: middle;\n",
       "    }\n",
       "\n",
       "    .dataframe tbody tr th {\n",
       "        vertical-align: top;\n",
       "    }\n",
       "\n",
       "    .dataframe thead th {\n",
       "        text-align: right;\n",
       "    }\n",
       "</style>\n",
       "<table border=\"1\" class=\"dataframe\">\n",
       "  <thead>\n",
       "    <tr style=\"text-align: right;\">\n",
       "      <th></th>\n",
       "      <th>text</th>\n",
       "      <th>label</th>\n",
       "      <th>pred_baseline</th>\n",
       "      <th>abs_error</th>\n",
       "    </tr>\n",
       "  </thead>\n",
       "  <tbody>\n",
       "    <tr>\n",
       "      <th>3683</th>\n",
       "      <td>jhijhkjhijhijh</td>\n",
       "      <td>1</td>\n",
       "      <td>0.000346</td>\n",
       "      <td>0.999654</td>\n",
       "    </tr>\n",
       "    <tr>\n",
       "      <th>58318</th>\n",
       "      <td>Egri Zsuzsi</td>\n",
       "      <td>1</td>\n",
       "      <td>0.006193</td>\n",
       "      <td>0.993807</td>\n",
       "    </tr>\n",
       "    <tr>\n",
       "      <th>118386</th>\n",
       "      <td>kevikevdottcom</td>\n",
       "      <td>1</td>\n",
       "      <td>0.007060</td>\n",
       "      <td>0.992940</td>\n",
       "    </tr>\n",
       "    <tr>\n",
       "      <th>144725</th>\n",
       "      <td>Ziji</td>\n",
       "      <td>1</td>\n",
       "      <td>0.007665</td>\n",
       "      <td>0.992335</td>\n",
       "    </tr>\n",
       "    <tr>\n",
       "      <th>134789</th>\n",
       "      <td>Anjali</td>\n",
       "      <td>1</td>\n",
       "      <td>0.009885</td>\n",
       "      <td>0.990115</td>\n",
       "    </tr>\n",
       "    <tr>\n",
       "      <th>39036</th>\n",
       "      <td>Alison Copeland</td>\n",
       "      <td>1</td>\n",
       "      <td>0.011028</td>\n",
       "      <td>0.988972</td>\n",
       "    </tr>\n",
       "    <tr>\n",
       "      <th>97641</th>\n",
       "      <td>Jianguo Li</td>\n",
       "      <td>1</td>\n",
       "      <td>0.012595</td>\n",
       "      <td>0.987405</td>\n",
       "    </tr>\n",
       "    <tr>\n",
       "      <th>120212</th>\n",
       "      <td>Scott Gavin</td>\n",
       "      <td>1</td>\n",
       "      <td>0.012595</td>\n",
       "      <td>0.987405</td>\n",
       "    </tr>\n",
       "    <tr>\n",
       "      <th>37273</th>\n",
       "      <td>jobhotwire</td>\n",
       "      <td>1</td>\n",
       "      <td>0.012662</td>\n",
       "      <td>0.987338</td>\n",
       "    </tr>\n",
       "    <tr>\n",
       "      <th>58358</th>\n",
       "      <td>Rick Oliver</td>\n",
       "      <td>1</td>\n",
       "      <td>0.012738</td>\n",
       "      <td>0.987262</td>\n",
       "    </tr>\n",
       "  </tbody>\n",
       "</table>\n",
       "</div>"
      ],
      "text/plain": [
       "                   text  label  pred_baseline  abs_error\n",
       "3683     jhijhkjhijhijh      1       0.000346   0.999654\n",
       "58318       Egri Zsuzsi      1       0.006193   0.993807\n",
       "118386   kevikevdottcom      1       0.007060   0.992940\n",
       "144725             Ziji      1       0.007665   0.992335\n",
       "134789           Anjali      1       0.009885   0.990115\n",
       "39036   Alison Copeland      1       0.011028   0.988972\n",
       "97641        Jianguo Li      1       0.012595   0.987405\n",
       "120212      Scott Gavin      1       0.012595   0.987405\n",
       "37273        jobhotwire      1       0.012662   0.987338\n",
       "58358       Rick Oliver      1       0.012738   0.987262"
      ]
     },
     "execution_count": 34,
     "metadata": {},
     "output_type": "execute_result"
    }
   ],
   "source": [
    "df_eval[df_eval.label!=(df_eval.pred_baseline>0.5)].sort_values(by=[\"pred_baseline\"]).head(10)"
   ]
  },
  {
   "cell_type": "markdown",
   "id": "9d5d9f4e",
   "metadata": {},
   "source": [
    "Looking at the top companies misclassified, I had some insights:\n",
    "1. the most obvious and expected one: many companies' names are named after persons without any addition like Inc or LLC, so not much that a model or a human can do here\n",
    "2. we possibly have issues of mispelling in our dataset, perhaps this is a predictor by itself, moreover, more powerful models like pre-trained Transformers could handle mispelling\n",
    "3. one positive thing: the baseline model seems to not have an issue with non-occidental names, it thought that Jianguo Li (likely Chinese) was a person name\n",
    "4. The model didn't learn that one word = likely a company\n",
    "5. The lack of spaces separating words might be hindering the model performance, like if kevikevdottcom was \"kevikev dott com\", the \"com\" word could have been key for a correct prediction \n",
    "\n",
    "If the model will be deployed outside North America and Europe, point 3 might be particurlarly important and worth exploring more."
   ]
  },
  {
   "cell_type": "code",
   "execution_count": 35,
   "id": "a09a2c9f",
   "metadata": {},
   "outputs": [
    {
     "data": {
      "text/html": [
       "<div>\n",
       "<style scoped>\n",
       "    .dataframe tbody tr th:only-of-type {\n",
       "        vertical-align: middle;\n",
       "    }\n",
       "\n",
       "    .dataframe tbody tr th {\n",
       "        vertical-align: top;\n",
       "    }\n",
       "\n",
       "    .dataframe thead th {\n",
       "        text-align: right;\n",
       "    }\n",
       "</style>\n",
       "<table border=\"1\" class=\"dataframe\">\n",
       "  <thead>\n",
       "    <tr style=\"text-align: right;\">\n",
       "      <th></th>\n",
       "      <th>text</th>\n",
       "      <th>label</th>\n",
       "      <th>pred_baseline</th>\n",
       "      <th>abs_error</th>\n",
       "    </tr>\n",
       "  </thead>\n",
       "  <tbody>\n",
       "    <tr>\n",
       "      <th>37750</th>\n",
       "      <td>Barum Jeffries Acc</td>\n",
       "      <td>0</td>\n",
       "      <td>0.994885</td>\n",
       "      <td>0.994885</td>\n",
       "    </tr>\n",
       "    <tr>\n",
       "      <th>24285</th>\n",
       "      <td>William Maiorino Jr</td>\n",
       "      <td>0</td>\n",
       "      <td>0.990820</td>\n",
       "      <td>0.990820</td>\n",
       "    </tr>\n",
       "    <tr>\n",
       "      <th>85522</th>\n",
       "      <td>Wilt Dirk Vande</td>\n",
       "      <td>0</td>\n",
       "      <td>0.989732</td>\n",
       "      <td>0.989732</td>\n",
       "    </tr>\n",
       "    <tr>\n",
       "      <th>57333</th>\n",
       "      <td>Roger J Cline</td>\n",
       "      <td>0</td>\n",
       "      <td>0.987866</td>\n",
       "      <td>0.987866</td>\n",
       "    </tr>\n",
       "    <tr>\n",
       "      <th>3478</th>\n",
       "      <td>Md Rabbi</td>\n",
       "      <td>0</td>\n",
       "      <td>0.986164</td>\n",
       "      <td>0.986164</td>\n",
       "    </tr>\n",
       "    <tr>\n",
       "      <th>55362</th>\n",
       "      <td>Linda Just Blackman</td>\n",
       "      <td>0</td>\n",
       "      <td>0.983481</td>\n",
       "      <td>0.983481</td>\n",
       "    </tr>\n",
       "    <tr>\n",
       "      <th>70739</th>\n",
       "      <td>Richard Gow Policy Analyst</td>\n",
       "      <td>0</td>\n",
       "      <td>0.981449</td>\n",
       "      <td>0.981449</td>\n",
       "    </tr>\n",
       "    <tr>\n",
       "      <th>84704</th>\n",
       "      <td>Marks Michelle Do</td>\n",
       "      <td>0</td>\n",
       "      <td>0.980394</td>\n",
       "      <td>0.980394</td>\n",
       "    </tr>\n",
       "    <tr>\n",
       "      <th>3624</th>\n",
       "      <td>Friedman Rolf Doki</td>\n",
       "      <td>0</td>\n",
       "      <td>0.978722</td>\n",
       "      <td>0.978722</td>\n",
       "    </tr>\n",
       "    <tr>\n",
       "      <th>92472</th>\n",
       "      <td>Sixto R Caro</td>\n",
       "      <td>0</td>\n",
       "      <td>0.974939</td>\n",
       "      <td>0.974939</td>\n",
       "    </tr>\n",
       "  </tbody>\n",
       "</table>\n",
       "</div>"
      ],
      "text/plain": [
       "                             text  label  pred_baseline  abs_error\n",
       "37750          Barum Jeffries Acc      0       0.994885   0.994885\n",
       "24285         William Maiorino Jr      0       0.990820   0.990820\n",
       "85522             Wilt Dirk Vande      0       0.989732   0.989732\n",
       "57333               Roger J Cline      0       0.987866   0.987866\n",
       "3478                     Md Rabbi      0       0.986164   0.986164\n",
       "55362         Linda Just Blackman      0       0.983481   0.983481\n",
       "70739  Richard Gow Policy Analyst      0       0.981449   0.981449\n",
       "84704           Marks Michelle Do      0       0.980394   0.980394\n",
       "3624           Friedman Rolf Doki      0       0.978722   0.978722\n",
       "92472                Sixto R Caro      0       0.974939   0.974939"
      ]
     },
     "execution_count": 35,
     "metadata": {},
     "output_type": "execute_result"
    }
   ],
   "source": [
    "df_eval[df_eval.label!=(df_eval.pred_baseline>0.5)].sort_values(by=[\"pred_baseline\"], ascending=False).head(10)"
   ]
  },
  {
   "cell_type": "markdown",
   "id": "ae576d3d",
   "metadata": {},
   "source": [
    "Looking at the mistakes on individuals' names makes me think that:\n",
    "1. Our dataset contains extra information for the people, like their position at the company, e.g. \"Richard Gow Policy Analyst\"\n",
    "2. Abbreviations seem to mislead the model here"
   ]
  },
  {
   "cell_type": "markdown",
   "id": "d2d9a8ee",
   "metadata": {},
   "source": [
    "## Model number 2: a custom NN\n",
    "\n",
    "Looking at the failures of our baseline model, it seems a pre-trained transformer would be ideal to our case. Moreover, with less than 1MM samples and no further contextual features, it seems unlikely that a custom model will beat a pre-trained model.\n",
    "\n",
    "Nevertheless, a custom NN can have its advantage, you have more freedom with it and it can be much faster to train. Besides, we could obtain more data in the future. So I wanted to try out something quick here."
   ]
  },
  {
   "cell_type": "code",
   "execution_count": 139,
   "id": "81f7fe3c",
   "metadata": {},
   "outputs": [],
   "source": [
    "# Again, we need to vectorize our text\n",
    "vectorize_layer_words = tf.keras.layers.TextVectorization(\n",
    "    max_tokens=5000, \n",
    "    output_mode='int', # Outputs integer indices, one integer index per split string token\n",
    "    output_sequence_length=10\n",
    ")\n",
    "\n",
    "vectorize_layer_ngrams = tf.keras.layers.TextVectorization(\n",
    "    max_tokens=1000,\n",
    "    output_mode='int',\n",
    "    output_sequence_length=42,\n",
    "    ngrams=(1, 2), # create char n-grams of 1 and 2\n",
    "    split=\"character\"\n",
    ")\n",
    "\n",
    "# learning the vocab\n",
    "text_dataset = tf.data.Dataset.from_tensor_slices(df_train.text.tolist())\n",
    "vectorize_layer_words.adapt(text_dataset.batch(64))\n",
    "vectorize_layer_ngrams.adapt(text_dataset.batch(64))"
   ]
  },
  {
   "cell_type": "code",
   "execution_count": 140,
   "id": "8e599878",
   "metadata": {},
   "outputs": [],
   "source": [
    "# defining string input and adding vectorize layers\n",
    "inputs = tf.keras.Input(shape=(1,), dtype=tf.string)"
   ]
  },
  {
   "cell_type": "code",
   "execution_count": 141,
   "id": "d12124b2",
   "metadata": {},
   "outputs": [],
   "source": [
    "outputs = tf.keras.layers.Concatenate()(\n",
    "    [\n",
    "        tf.keras.layers.GlobalAveragePooling1D()(\n",
    "            tf.keras.layers.Embedding(5000, 32)(vectorize_layer_words(inputs))\n",
    "        ),\n",
    "        tf.keras.layers.GlobalAveragePooling1D()(\n",
    "            tf.keras.layers.Embedding(1000, 32)(vectorize_layer_ngrams(inputs))\n",
    "        ),\n",
    "    ]\n",
    ")"
   ]
  },
  {
   "cell_type": "code",
   "execution_count": 142,
   "id": "64812be1",
   "metadata": {},
   "outputs": [],
   "source": [
    "# An extra hidden layer\n",
    "outputs = tf.keras.layers.Dense(32, activation=\"relu\")(outputs)"
   ]
  },
  {
   "cell_type": "code",
   "execution_count": 143,
   "id": "dff82465",
   "metadata": {},
   "outputs": [],
   "source": [
    "# Finally our output layer\n",
    "outputs = tf.keras.layers.Dense(1, activation=\"sigmoid\")(outputs)"
   ]
  },
  {
   "cell_type": "code",
   "execution_count": 144,
   "id": "385722ab",
   "metadata": {},
   "outputs": [],
   "source": [
    "model = Model(inputs=inputs, outputs=outputs)"
   ]
  },
  {
   "cell_type": "code",
   "execution_count": 145,
   "id": "2544af5e",
   "metadata": {},
   "outputs": [],
   "source": [
    "model.compile(\n",
    "    optimizer=Adam(3e-5),\n",
    "    loss=tf.keras.losses.BinaryCrossentropy(),\n",
    "    metrics=['accuracy']\n",
    ")"
   ]
  },
  {
   "cell_type": "code",
   "execution_count": 146,
   "id": "8bc9b78e",
   "metadata": {
    "scrolled": true
   },
   "outputs": [
    {
     "name": "stdout",
     "output_type": "stream",
     "text": [
      "Epoch 1/15\n",
      "5106/5106 [==============================] - 47s 9ms/step - loss: 0.5589 - accuracy: 0.7050 - val_loss: 0.4428 - val_accuracy: 0.7928\n",
      "Epoch 2/15\n",
      "5106/5106 [==============================] - 31s 6ms/step - loss: 0.4005 - accuracy: 0.8132 - val_loss: 0.3715 - val_accuracy: 0.8289\n",
      "Epoch 3/15\n",
      "5106/5106 [==============================] - 31s 6ms/step - loss: 0.3415 - accuracy: 0.8504 - val_loss: 0.3190 - val_accuracy: 0.8641\n",
      "Epoch 4/15\n",
      "5106/5106 [==============================] - 31s 6ms/step - loss: 0.2957 - accuracy: 0.8786 - val_loss: 0.2817 - val_accuracy: 0.8855\n",
      "Epoch 5/15\n",
      "5106/5106 [==============================] - 32s 6ms/step - loss: 0.2648 - accuracy: 0.8954 - val_loss: 0.2578 - val_accuracy: 0.8983\n",
      "Epoch 6/15\n",
      "5106/5106 [==============================] - 31s 6ms/step - loss: 0.2449 - accuracy: 0.9050 - val_loss: 0.2426 - val_accuracy: 0.9050\n",
      "Epoch 7/15\n",
      "5106/5106 [==============================] - 31s 6ms/step - loss: 0.2314 - accuracy: 0.9107 - val_loss: 0.2323 - val_accuracy: 0.9083\n",
      "Epoch 8/15\n",
      "5106/5106 [==============================] - 31s 6ms/step - loss: 0.2216 - accuracy: 0.9138 - val_loss: 0.2246 - val_accuracy: 0.9109\n",
      "Epoch 9/15\n",
      "5106/5106 [==============================] - 29s 6ms/step - loss: 0.2139 - accuracy: 0.9161 - val_loss: 0.2187 - val_accuracy: 0.9124\n",
      "Epoch 10/15\n",
      "5106/5106 [==============================] - 31s 6ms/step - loss: 0.2077 - accuracy: 0.9173 - val_loss: 0.2140 - val_accuracy: 0.9135\n",
      "Epoch 11/15\n",
      "5106/5106 [==============================] - 31s 6ms/step - loss: 0.2025 - accuracy: 0.9186 - val_loss: 0.2102 - val_accuracy: 0.9153\n",
      "Epoch 12/15\n",
      "5106/5106 [==============================] - 31s 6ms/step - loss: 0.1982 - accuracy: 0.9211 - val_loss: 0.2071 - val_accuracy: 0.9181\n",
      "Epoch 13/15\n",
      "5106/5106 [==============================] - 31s 6ms/step - loss: 0.1946 - accuracy: 0.9236 - val_loss: 0.2047 - val_accuracy: 0.9194\n",
      "Epoch 14/15\n",
      "5106/5106 [==============================] - 31s 6ms/step - loss: 0.1914 - accuracy: 0.9255 - val_loss: 0.2028 - val_accuracy: 0.9211\n",
      "Epoch 15/15\n",
      "5106/5106 [==============================] - 31s 6ms/step - loss: 0.1887 - accuracy: 0.9268 - val_loss: 0.2014 - val_accuracy: 0.9224\n"
     ]
    }
   ],
   "source": [
    "hist = model.fit(\n",
    "    np.array(df_train[\"text\"]), np.array(df_train[\"label\"]),\n",
    "    validation_data=(np.array(df_eval[\"text\"]), np.array(df_eval[\"label\"])),\n",
    "    epochs=15,\n",
    ")"
   ]
  },
  {
   "cell_type": "code",
   "execution_count": 153,
   "id": "6b575f9f",
   "metadata": {},
   "outputs": [
    {
     "data": {
      "text/plain": [
       "(0.9224460819114298, 0.9664455062541475)"
      ]
     },
     "execution_count": 153,
     "metadata": {},
     "output_type": "execute_result"
    }
   ],
   "source": [
    "# getting metrics\n",
    "accuracy_score(df_eval.label.tolist(), predict>0.5), roc_auc_score(df_eval.label.tolist(), predict)"
   ]
  },
  {
   "cell_type": "code",
   "execution_count": 154,
   "id": "ab780e7b",
   "metadata": {},
   "outputs": [
    {
     "data": {
      "image/png": "[encoded data removed]",
      "text/plain": [
       "<Figure size 1200x400 with 1 Axes>"
      ]
     },
     "metadata": {},
     "output_type": "display_data"
    }
   ],
   "source": [
    "fig = plt.figure(figsize=(12, 4), dpi=100)\n",
    "ax = fig.add_axes([0,0,1,1])\n",
    "ax.plot(list(range(len(hist.history[\"loss\"]))), hist.history[\"loss\"], color=\"orange\", label='train')\n",
    "ax.plot(list(range(len(hist.history[\"val_loss\"]))), hist.history[\"val_loss\"], color=\"blue\", label='val')\n",
    "ax.legend()\n",
    "plt.show()"
   ]
  },
  {
   "cell_type": "code",
   "execution_count": 155,
   "id": "ae7ba705",
   "metadata": {},
   "outputs": [
    {
     "data": {
      "image/png": "[encoded data removed]",
      "text/plain": [
       "<Figure size 1200x400 with 1 Axes>"
      ]
     },
     "metadata": {},
     "output_type": "display_data"
    }
   ],
   "source": [
    "fig = plt.figure(figsize=(12, 4), dpi=100)\n",
    "ax = fig.add_axes([0,0,1,1])\n",
    "x_axis = list(range(len(hist.history[\"accuracy\"])))\n",
    "ax.plot(x_axis, hist.history[\"accuracy\"], color=\"orange\", label='train')\n",
    "ax.plot(x_axis, hist.history[\"val_accuracy\"], color=\"blue\", label='val')\n",
    "ax.plot(x_axis, [0.91] * len(x_axis), color=\"black\", label='baseline')\n",
    "ax.set_ylim([None, 1])\n",
    "ax.legend()\n",
    "plt.show()"
   ]
  },
  {
   "cell_type": "markdown",
   "id": "fd32b330",
   "metadata": {},
   "source": [
    "### Some thoughts on the custom NN\n",
    "\n",
    "The general process I follow when training neural networks:\n",
    "1. add more and more power (more layers, more neurons, LSTM, attention, etc) until I start to overfit;\n",
    "1. then I start to add regularization to the network (L1/L2 weights, dropout, batch normalization, etc).\n",
    "\n",
    "By the plots above, we cleared didn't start to overfit, so we are probably still underfitting and there is learning to be extract from the data, so I won't add regularization here. The fact that we didn't even reach the baseline is further evidence for undefitting.\n",
    "\n",
    "We can also see that adding more epochs alone probably won't solve the problem."
   ]
  },
  {
   "cell_type": "markdown",
   "id": "4a034522",
   "metadata": {},
   "source": [
    "# Final model: Transformer"
   ]
  },
  {
   "cell_type": "markdown",
   "id": "8967591c",
   "metadata": {},
   "source": [
    "We will use a pre-trained transformer called BERT by Google. We have already pointed out some reasons to believe that a transformer is a good idea, so here I would like to justify why BERT specifically: it can understand the position of the words in a sentence. We haven't explored it in the EDA or in the other models, but this might be important, like, John is a common first name but not last name, or LLC or Inc. will be added to the end of the company's name but not at beginning.\n",
    "\n",
    "With more time, we could explore combining different transformers, one that process characters + BERT and tying them together by concatenating and plugging their last hidden layer to another NN."
   ]
  },
  {
   "cell_type": "code",
   "execution_count": 17,
   "id": "d33a67d8",
   "metadata": {},
   "outputs": [],
   "source": [
    "# we start in the same way, converting words to something that the model understands\n",
    "\n",
    "tokenizer = AutoTokenizer.from_pretrained(\"bert-base-cased\")\n",
    "train_tokens = dict(tokenizer(df_train[\"text\"].tolist(), return_tensors=\"np\", padding=True))\n",
    "eval_tokens = dict(tokenizer(df_eval[\"text\"].tolist(), return_tensors=\"np\", padding=True))\n",
    "test_tokens = dict(tokenizer(df_test[\"text\"].tolist(), return_tensors=\"np\", padding=True))"
   ]
  },
  {
   "cell_type": "code",
   "execution_count": 18,
   "id": "c54c62c8",
   "metadata": {
    "collapsed": true,
    "jupyter": {
     "outputs_hidden": true
    }
   },
   "outputs": [
    {
     "name": "stderr",
     "output_type": "stream",
     "text": [
      "2023-02-16 16:42:40.042009: I tensorflow/core/platform/cpu_feature_guard.cc:193] This TensorFlow binary is optimized with oneAPI Deep Neural Network Library (oneDNN) to use the following CPU instructions in performance-critical operations:  AVX2 AVX512F AVX512_VNNI FMA\n",
      "To enable them in other operations, rebuild TensorFlow with the appropriate compiler flags.\n",
      "2023-02-16 16:42:40.472862: I tensorflow/core/common_runtime/gpu/gpu_device.cc:1613] Created device /job:localhost/replica:0/task:0/device:GPU:0 with 22284 MB memory:  -> device: 0, name: NVIDIA GeForce RTX 3090, pci bus id: 0000:c7:00.0, compute capability: 8.6\n",
      "All model checkpoint layers were used when initializing TFBertForSequenceClassification.\n",
      "\n",
      "Some layers of TFBertForSequenceClassification were not initialized from the model checkpoint at bert-base-cased and are newly initialized: ['classifier']\n",
      "You should probably TRAIN this model on a down-stream task to be able to use it for predictions and inference.\n",
      "No loss specified in compile() - the model's internal loss computation will be used as the loss. Don't panic - this is a common way to train TensorFlow models in Transformers! To disable this behaviour please pass a loss argument, or explicitly pass `loss=None` if you do not want your model to compute a loss.\n"
     ]
    },
    {
     "name": "stdout",
     "output_type": "stream",
     "text": [
      "Epoch 1/3\n"
     ]
    },
    {
     "name": "stderr",
     "output_type": "stream",
     "text": [
      "2023-02-16 16:43:07.233738: I tensorflow/compiler/xla/service/service.cc:173] XLA service 0x7f2240009d40 initialized for platform CUDA (this does not guarantee that XLA will be used). Devices:\n",
      "2023-02-16 16:43:07.233776: I tensorflow/compiler/xla/service/service.cc:181]   StreamExecutor device (0): NVIDIA GeForce RTX 3090, Compute Capability 8.6\n",
      "2023-02-16 16:43:07.270195: I tensorflow/compiler/mlir/tensorflow/utils/dump_mlir_util.cc:268] disabling MLIR crash reproducer, set env var `MLIR_CRASH_REPRODUCER_DIRECTORY` to enable.\n",
      "2023-02-16 16:43:08.285399: I tensorflow/compiler/jit/xla_compilation_cache.cc:477] Compiled cluster using XLA!  This line is logged at most once for the lifetime of the process.\n"
     ]
    },
    {
     "name": "stdout",
     "output_type": "stream",
     "text": [
      "5106/5106 [==============================] - 534s 97ms/step - loss: 0.1536 - accuracy: 0.9488 - val_loss: 0.1440 - val_accuracy: 0.9507\n",
      "Epoch 2/3\n",
      "5106/5106 [==============================] - 486s 95ms/step - loss: 0.1305 - accuracy: 0.9564 - val_loss: 0.1422 - val_accuracy: 0.9518\n",
      "Epoch 3/3\n",
      "5106/5106 [==============================] - 487s 95ms/step - loss: 0.1133 - accuracy: 0.9616 - val_loss: 0.1464 - val_accuracy: 0.9515\n"
     ]
    }
   ],
   "source": [
    "# Load and compile our model\n",
    "model = TFAutoModelForSequenceClassification.from_pretrained(\"bert-base-cased\")\n",
    "\n",
    "# Lower learning rates are often better for fine-tuning transformers\n",
    "# No need to provide a loss function as the transformer already has a bespoken internal loss function\n",
    "model.compile(\n",
    "    optimizer=Adam(3e-5),\n",
    "    metrics=['accuracy']\n",
    ")\n",
    "\n",
    "hist = model.fit(\n",
    "    train_tokens, np.array(df_train[\"label\"]),\n",
    "    validation_data=(eval_tokens, np.array(df_eval[\"label\"])),\n",
    "    epochs=3\n",
    ")"
   ]
  },
  {
   "cell_type": "code",
   "execution_count": 19,
   "id": "25575d6a",
   "metadata": {},
   "outputs": [
    {
     "data": {
      "image/png": "[encoded data removed]",
      "text/plain": [
       "<Figure size 1200x400 with 1 Axes>"
      ]
     },
     "metadata": {},
     "output_type": "display_data"
    }
   ],
   "source": [
    "fig = plt.figure(figsize=(12, 4), dpi=100)\n",
    "ax = fig.add_axes([0,0,1,1])\n",
    "ax.plot(list(range(len(hist.history[\"loss\"]))), hist.history[\"loss\"], color=\"orange\", label='train')\n",
    "ax.plot(list(range(len(hist.history[\"val_loss\"]))), hist.history[\"val_loss\"], color=\"blue\", label='val')\n",
    "ax.legend()\n",
    "plt.show()"
   ]
  },
  {
   "cell_type": "code",
   "execution_count": 20,
   "id": "ab418b28",
   "metadata": {
    "scrolled": true
   },
   "outputs": [
    {
     "data": {
      "image/png": "[encoded data removed]",
      "text/plain": [
       "<Figure size 1200x400 with 1 Axes>"
      ]
     },
     "metadata": {},
     "output_type": "display_data"
    }
   ],
   "source": [
    "fig = plt.figure(figsize=(12, 4), dpi=100)\n",
    "ax = fig.add_axes([0,0,1,1])\n",
    "x_axis = list(range(len(hist.history[\"accuracy\"])))\n",
    "ax.plot(x_axis, hist.history[\"accuracy\"], color=\"orange\", label='train')\n",
    "ax.plot(x_axis, hist.history[\"val_accuracy\"], color=\"blue\", label='val')\n",
    "ax.plot(x_axis, [0.91] * len(x_axis), color=\"black\", label='baseline')\n",
    "ax.set_ylim([None, 1])\n",
    "ax.legend()\n",
    "plt.show()"
   ]
  },
  {
   "cell_type": "markdown",
   "id": "8ac07f9e",
   "metadata": {},
   "source": [
    "### Some comments on the new model\n",
    "\n",
    "With a more powerful model, we seem to finaly see some overfitting, as the validation loss increases in the third epoch, and accuracy is improving slower in the validation than in the train set.\n",
    "\n",
    "It's important to note that the loss function for the custom NN is not the same as the one used in BERT, so the loss plots are not comparable."
   ]
  },
  {
   "cell_type": "code",
   "execution_count": 22,
   "id": "cc88ed93",
   "metadata": {},
   "outputs": [
    {
     "name": "stdout",
     "output_type": "stream",
     "text": [
      "1277/1277 [==============================] - 39s 29ms/step\n"
     ]
    }
   ],
   "source": [
    "val_logits = model.predict(eval_tokens).logits"
   ]
  },
  {
   "cell_type": "code",
   "execution_count": 26,
   "id": "69249273",
   "metadata": {},
   "outputs": [],
   "source": [
    "def logits_to_prob(logits):\n",
    "    return 1 / (1 + np.exp(-logits))\n",
    "\n",
    "df_eval[\"pred_transformer\"] = logits_to_prob(val_logits[:,1])\n",
    "df_eval[\"abs_error_transf\"] = df_eval.apply(lambda x: abs(int(x[\"label\"]) - x[\"pred_transformer\"]), axis=1)"
   ]
  },
  {
   "cell_type": "code",
   "execution_count": 31,
   "id": "349bf608",
   "metadata": {},
   "outputs": [
    {
     "data": {
      "text/plain": [
       "(0.9508923107052805, 0.9804253856931091)"
      ]
     },
     "execution_count": 31,
     "metadata": {},
     "output_type": "execute_result"
    }
   ],
   "source": [
    "(\n",
    "    accuracy_score(df_eval[\"label\"], df_eval[\"pred_transformer\"]>0.5),\n",
    "    roc_auc_score(df_eval[\"label\"], df_eval[\"pred_transformer\"])\n",
    ")"
   ]
  },
  {
   "cell_type": "code",
   "execution_count": 35,
   "id": "080e6fe9",
   "metadata": {},
   "outputs": [
    {
     "data": {
      "text/plain": [
       "array([[0.35636123, 0.01280325],\n",
       "       [0.03630444, 0.59453108]])"
      ]
     },
     "execution_count": 35,
     "metadata": {},
     "output_type": "execute_result"
    }
   ],
   "source": [
    "# The new model performs better than the baseline on classifying both companies and individuals\n",
    "confusion_matrix(df_eval.label.tolist(), df_eval[\"pred_transformer\"]>0.5) / df_eval.shape[0]"
   ]
  },
  {
   "cell_type": "code",
   "execution_count": 32,
   "id": "e35d395b",
   "metadata": {},
   "outputs": [
    {
     "data": {
      "text/html": [
       "<div>\n",
       "<style scoped>\n",
       "    .dataframe tbody tr th:only-of-type {\n",
       "        vertical-align: middle;\n",
       "    }\n",
       "\n",
       "    .dataframe tbody tr th {\n",
       "        vertical-align: top;\n",
       "    }\n",
       "\n",
       "    .dataframe thead th {\n",
       "        text-align: right;\n",
       "    }\n",
       "</style>\n",
       "<table border=\"1\" class=\"dataframe\">\n",
       "  <thead>\n",
       "    <tr style=\"text-align: right;\">\n",
       "      <th></th>\n",
       "      <th>text</th>\n",
       "      <th>label</th>\n",
       "      <th>pred_transformer</th>\n",
       "      <th>abs_error_transf</th>\n",
       "    </tr>\n",
       "  </thead>\n",
       "  <tbody>\n",
       "    <tr>\n",
       "      <th>39036</th>\n",
       "      <td>Alison Copeland</td>\n",
       "      <td>1</td>\n",
       "      <td>0.096191</td>\n",
       "      <td>0.903809</td>\n",
       "    </tr>\n",
       "    <tr>\n",
       "      <th>96109</th>\n",
       "      <td>Tracey Whaley</td>\n",
       "      <td>1</td>\n",
       "      <td>0.098206</td>\n",
       "      <td>0.901794</td>\n",
       "    </tr>\n",
       "    <tr>\n",
       "      <th>127968</th>\n",
       "      <td>Tonya Kidd</td>\n",
       "      <td>1</td>\n",
       "      <td>0.099976</td>\n",
       "      <td>0.900024</td>\n",
       "    </tr>\n",
       "    <tr>\n",
       "      <th>68316</th>\n",
       "      <td>Tony Ross</td>\n",
       "      <td>1</td>\n",
       "      <td>0.100525</td>\n",
       "      <td>0.899475</td>\n",
       "    </tr>\n",
       "    <tr>\n",
       "      <th>33531</th>\n",
       "      <td>Amina Munshi</td>\n",
       "      <td>1</td>\n",
       "      <td>0.100708</td>\n",
       "      <td>0.899292</td>\n",
       "    </tr>\n",
       "    <tr>\n",
       "      <th>120212</th>\n",
       "      <td>Scott Gavin</td>\n",
       "      <td>1</td>\n",
       "      <td>0.103210</td>\n",
       "      <td>0.896790</td>\n",
       "    </tr>\n",
       "    <tr>\n",
       "      <th>54043</th>\n",
       "      <td>Sarah Atherton</td>\n",
       "      <td>1</td>\n",
       "      <td>0.103699</td>\n",
       "      <td>0.896301</td>\n",
       "    </tr>\n",
       "    <tr>\n",
       "      <th>33813</th>\n",
       "      <td>Adam Gillund</td>\n",
       "      <td>1</td>\n",
       "      <td>0.105591</td>\n",
       "      <td>0.894409</td>\n",
       "    </tr>\n",
       "    <tr>\n",
       "      <th>71156</th>\n",
       "      <td>Christie Kerr</td>\n",
       "      <td>1</td>\n",
       "      <td>0.107666</td>\n",
       "      <td>0.892334</td>\n",
       "    </tr>\n",
       "    <tr>\n",
       "      <th>34743</th>\n",
       "      <td>Amzad Khan</td>\n",
       "      <td>1</td>\n",
       "      <td>0.107849</td>\n",
       "      <td>0.892151</td>\n",
       "    </tr>\n",
       "  </tbody>\n",
       "</table>\n",
       "</div>"
      ],
      "text/plain": [
       "                   text  label  pred_transformer  abs_error_transf\n",
       "39036   Alison Copeland      1          0.096191          0.903809\n",
       "96109     Tracey Whaley      1          0.098206          0.901794\n",
       "127968       Tonya Kidd      1          0.099976          0.900024\n",
       "68316         Tony Ross      1          0.100525          0.899475\n",
       "33531      Amina Munshi      1          0.100708          0.899292\n",
       "120212      Scott Gavin      1          0.103210          0.896790\n",
       "54043    Sarah Atherton      1          0.103699          0.896301\n",
       "33813      Adam Gillund      1          0.105591          0.894409\n",
       "71156     Christie Kerr      1          0.107666          0.892334\n",
       "34743        Amzad Khan      1          0.107849          0.892151"
      ]
     },
     "execution_count": 32,
     "metadata": {},
     "output_type": "execute_result"
    }
   ],
   "source": [
    "df_eval[df_eval.label!=(df_eval.pred_transformer>0.5)].sort_values(by=[\"pred_transformer\"]).head(10)"
   ]
  },
  {
   "cell_type": "code",
   "execution_count": 33,
   "id": "5471a0c2",
   "metadata": {},
   "outputs": [
    {
     "data": {
      "text/html": [
       "<div>\n",
       "<style scoped>\n",
       "    .dataframe tbody tr th:only-of-type {\n",
       "        vertical-align: middle;\n",
       "    }\n",
       "\n",
       "    .dataframe tbody tr th {\n",
       "        vertical-align: top;\n",
       "    }\n",
       "\n",
       "    .dataframe thead th {\n",
       "        text-align: right;\n",
       "    }\n",
       "</style>\n",
       "<table border=\"1\" class=\"dataframe\">\n",
       "  <thead>\n",
       "    <tr style=\"text-align: right;\">\n",
       "      <th></th>\n",
       "      <th>text</th>\n",
       "      <th>label</th>\n",
       "      <th>pred_transformer</th>\n",
       "      <th>abs_error_transf</th>\n",
       "    </tr>\n",
       "  </thead>\n",
       "  <tbody>\n",
       "    <tr>\n",
       "      <th>19591</th>\n",
       "      <td>Drifa Landmark</td>\n",
       "      <td>0</td>\n",
       "      <td>0.985352</td>\n",
       "      <td>0.985352</td>\n",
       "    </tr>\n",
       "    <tr>\n",
       "      <th>61519</th>\n",
       "      <td>Bhatia Bikramjit S</td>\n",
       "      <td>0</td>\n",
       "      <td>0.985352</td>\n",
       "      <td>0.985352</td>\n",
       "    </tr>\n",
       "    <tr>\n",
       "      <th>61836</th>\n",
       "      <td>Hershey Trade</td>\n",
       "      <td>0</td>\n",
       "      <td>0.985352</td>\n",
       "      <td>0.985352</td>\n",
       "    </tr>\n",
       "    <tr>\n",
       "      <th>53376</th>\n",
       "      <td>Fulton Brad R</td>\n",
       "      <td>0</td>\n",
       "      <td>0.985352</td>\n",
       "      <td>0.985352</td>\n",
       "    </tr>\n",
       "    <tr>\n",
       "      <th>24285</th>\n",
       "      <td>William Maiorino Jr</td>\n",
       "      <td>0</td>\n",
       "      <td>0.985352</td>\n",
       "      <td>0.985352</td>\n",
       "    </tr>\n",
       "    <tr>\n",
       "      <th>16505</th>\n",
       "      <td>Mansion House</td>\n",
       "      <td>0</td>\n",
       "      <td>0.985352</td>\n",
       "      <td>0.985352</td>\n",
       "    </tr>\n",
       "    <tr>\n",
       "      <th>61429</th>\n",
       "      <td>Yan-Jiang Lv</td>\n",
       "      <td>0</td>\n",
       "      <td>0.985352</td>\n",
       "      <td>0.985352</td>\n",
       "    </tr>\n",
       "    <tr>\n",
       "      <th>70739</th>\n",
       "      <td>Richard Gow Policy Analyst</td>\n",
       "      <td>0</td>\n",
       "      <td>0.985352</td>\n",
       "      <td>0.985352</td>\n",
       "    </tr>\n",
       "    <tr>\n",
       "      <th>66473</th>\n",
       "      <td>Asterious Toutios</td>\n",
       "      <td>0</td>\n",
       "      <td>0.985352</td>\n",
       "      <td>0.985352</td>\n",
       "    </tr>\n",
       "    <tr>\n",
       "      <th>28870</th>\n",
       "      <td>Ramsgateseafront Mgr</td>\n",
       "      <td>0</td>\n",
       "      <td>0.984375</td>\n",
       "      <td>0.984375</td>\n",
       "    </tr>\n",
       "  </tbody>\n",
       "</table>\n",
       "</div>"
      ],
      "text/plain": [
       "                             text  label  pred_transformer  abs_error_transf\n",
       "19591              Drifa Landmark      0          0.985352          0.985352\n",
       "61519          Bhatia Bikramjit S      0          0.985352          0.985352\n",
       "61836               Hershey Trade      0          0.985352          0.985352\n",
       "53376               Fulton Brad R      0          0.985352          0.985352\n",
       "24285         William Maiorino Jr      0          0.985352          0.985352\n",
       "16505               Mansion House      0          0.985352          0.985352\n",
       "61429                Yan-Jiang Lv      0          0.985352          0.985352\n",
       "70739  Richard Gow Policy Analyst      0          0.985352          0.985352\n",
       "66473           Asterious Toutios      0          0.985352          0.985352\n",
       "28870        Ramsgateseafront Mgr      0          0.984375          0.984375"
      ]
     },
     "execution_count": 33,
     "metadata": {},
     "output_type": "execute_result"
    }
   ],
   "source": [
    "(\n",
    "    df_eval[df_eval.label!=(df_eval.pred_transformer>0.5)]\n",
    "    .sort_values(by=[\"pred_transformer\"], ascending=False).head(10)\n",
    ")"
   ]
  },
  {
   "cell_type": "markdown",
   "id": "c165a69b",
   "metadata": {},
   "source": [
    "### Some comments on the worse mistakes\n",
    "\n",
    "The top 10 of companies misclassified looks incredible, I wouldn't have guessed these correctly as well. And it seems it solved all the problems we noticed with the baseline model.\n",
    "\n",
    "But looking at individuals misclassified, it seems that the same problems misled the model (namely, abbreviations and extra information like job position). It is also important to investigae if there is a tendency of failing with non-English names like \"Bhatia Bikramjit S\" or \"Yan-Jiang Lv\" as these types of biases can be damaging when entering new markets."
   ]
  },
  {
   "cell_type": "markdown",
   "id": "fa7c3f96",
   "metadata": {},
   "source": [
    "# Final Test\n",
    "\n",
    "Here, I present our final accuracy and ROC AUC numbers. As mentioned before, the test dataset can give us the expected performance on production, since it is unseen data for the model, not have been used for model selection or training.\n",
    "\n",
    "If we start to observe a worse performance on production (with the deployed model), it might be that we have a sampling bias when collecting the dataset provided, or that there is a feature shift."
   ]
  },
  {
   "cell_type": "code",
   "execution_count": 36,
   "id": "75902ddd",
   "metadata": {},
   "outputs": [
    {
     "name": "stdout",
     "output_type": "stream",
     "text": [
      "1596/1596 [==============================] - 50s 30ms/step\n"
     ]
    },
    {
     "data": {
      "text/plain": [
       "(0.9490413427077418, 0.980294734314447)"
      ]
     },
     "execution_count": 36,
     "metadata": {},
     "output_type": "execute_result"
    }
   ],
   "source": [
    "logits = model.predict(test_tokens).logits\n",
    "probabilities = logits_to_prob(logits[:,1])\n",
    "accuracy_score(df_test[\"label\"], probabilities>0.5), roc_auc_score(df_test[\"label\"], probabilities)"
   ]
  },
  {
   "cell_type": "markdown",
   "id": "6f1c3b97",
   "metadata": {},
   "source": [
    "# Final Words\n",
    "\n",
    "We were able to deliver a model to classify whether names are from individuals or companies with an accuracy of 95% using an implementation of the BERT transformer. This model easily beats our baseline of 91% obtained with Logistic Regression.\n",
    "\n",
    "A ~4 p.p. improvement over the baseline is big if this model is used to flag possible tampered information in a doc, this means that a human reviewer would deal with 1 in 20 false alarms instead of 1 in 11 from the baseline model, almost twice as good."
   ]
  },
  {
   "cell_type": "code",
   "execution_count": null,
   "id": "20ff2895",
   "metadata": {},
   "outputs": [],
   "source": []
  },
  {
   "cell_type": "code",
   "execution_count": null,
   "id": "06e1938b",
   "metadata": {},
   "outputs": [],
   "source": []
  }
 ],
 "metadata": {
  "kernelspec": {
   "display_name": "Python 3",
   "language": "python",
   "name": "python3"
  },
  "language_info": {
   "codemirror_mode": {
    "name": "ipython",
    "version": 3
   },
   "file_extension": ".py",
   "mimetype": "text/x-python",
   "name": "python",
   "nbconvert_exporter": "python",
   "pygments_lexer": "ipython3",
   "version": "3.7.6"
  }
 },
 "nbformat": 4,
 "nbformat_minor": 5
}
